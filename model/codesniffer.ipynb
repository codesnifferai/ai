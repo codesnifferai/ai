{
 "cells": [
  {
   "cell_type": "code",
   "execution_count": 1,
   "metadata": {},
   "outputs": [],
   "source": [
    "import os\n",
    "import random\n",
    "from transformers import RobertaTokenizer, T5ForConditionalGeneration, T5Tokenizer, T5Model, T5Config\n",
    "import sys\n",
    "sys.path.append('../')\n",
    "from data.dataset import CodeSnifferDataset\n",
    "from torch.utils.data import DataLoader\n",
    "from torch.utils.data import random_split\n",
    "from sniffer import CodeSnifferNetwork\n",
    "\n",
    "\n",
    "random.seed(90)"
   ]
  },
  {
   "cell_type": "code",
   "execution_count": null,
   "metadata": {},
   "outputs": [],
   "source": [
    "codeTokenizer = RobertaTokenizer.from_pretrained('Salesforce/codet5-small')\n",
    "codeModel = CodeSnifferNetwork(num_labels=8)\n",
    "# codeModel = T5ForConditionalGeneration.from_pretrained('Salesforce/codet5-small')"
   ]
  },
  {
   "cell_type": "code",
   "execution_count": null,
   "metadata": {},
   "outputs": [],
   "source": [
    "#codeModel.config.n_positions = 4096\n",
    "#codeTokenizer.model_max_length = 4096"
   ]
  },
  {
   "cell_type": "code",
   "execution_count": null,
   "metadata": {},
   "outputs": [],
   "source": [
    "dataset = CodeSnifferDataset(annotations_file=\"../data/dataset_test.csv\", code_files_dir=\"../data/code_files\")\n",
    "\n",
    "train_size = int(0.8 * len(dataset))    # 80% for training and 20% for testing.\n",
    "test_size = len(dataset) - train_size\n",
    "training_data, test_data = random_split(dataset, [train_size, test_size])"
   ]
  },
  {
   "cell_type": "code",
   "execution_count": null,
   "metadata": {},
   "outputs": [],
   "source": [
    "train_dataloader = DataLoader(training_data, batch_size=64, shuffle=True)\n",
    "test_dataloader = DataLoader(test_data, batch_size=64, shuffle=True)"
   ]
  },
  {
   "cell_type": "code",
   "execution_count": null,
   "metadata": {},
   "outputs": [],
   "source": [
    "code_data, labels = dataset[0]\n",
    "print(f\"Sample {1}:\")\n",
    "print(\"Code File Content:\")\n",
    "print(\"-------------------------------------------------\")\n",
    "print(code_data)\n",
    "print(\"-------------------------------------------------\")\n",
    "print(\"Labels:\", labels)\n",
    "print(\"\\n\\n\")"
   ]
  },
  {
   "cell_type": "code",
   "execution_count": null,
   "metadata": {},
   "outputs": [],
   "source": []
  }
 ],
 "metadata": {
  "kernelspec": {
   "display_name": "codesniffer",
   "language": "python",
   "name": "python3"
  },
  "language_info": {
   "codemirror_mode": {
    "name": "ipython",
    "version": 3
   },
   "file_extension": ".py",
   "mimetype": "text/x-python",
   "name": "python",
   "nbconvert_exporter": "python",
   "pygments_lexer": "ipython3",
   "version": "3.10.12"
  },
  "orig_nbformat": 4
 },
 "nbformat": 4,
 "nbformat_minor": 2
}
