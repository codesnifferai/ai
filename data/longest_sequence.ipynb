{
 "cells": [
  {
   "cell_type": "code",
   "execution_count": 6,
   "metadata": {},
   "outputs": [],
   "source": [
    "from transformers import RobertaTokenizer\n",
    "from tqdm import tqdm \n",
    "import os\n",
    "import pandas as pd\n",
    "import matplotlib.pyplot as plt"
   ]
  },
  {
   "cell_type": "code",
   "execution_count": 7,
   "metadata": {},
   "outputs": [],
   "source": [
    "tokenizer = RobertaTokenizer.from_pretrained('Salesforce/codet5-small')\n",
    "DATASET_DIR = \"code_files\""
   ]
  },
  {
   "cell_type": "code",
   "execution_count": 8,
   "metadata": {},
   "outputs": [
    {
     "name": "stderr",
     "output_type": "stream",
     "text": [
      "  0%|          | 0/168182 [00:00<?, ?it/s]Token indices sequence length is longer than the specified maximum sequence length for this model (854 > 512). Running this sequence through the model will result in indexing errors\n",
      "100%|██████████| 168182/168182 [1:14:51<00:00, 37.44it/s]\n"
     ]
    }
   ],
   "source": [
    "lengths = pd.Series()\n",
    "for filename in tqdm(os.listdir(DATASET_DIR)):\n",
    "    f = os.path.join(DATASET_DIR, filename)       \n",
    "    if os.path.isfile(f):\n",
    "        with open(f, \"r\") as file:\n",
    "            file_content = file.read()\n",
    "        input_ids = tokenizer(file_content, return_tensors=\"pt\").input_ids\n",
    "        seq_length = input_ids.shape[1]\n",
    "        lengths[f] = seq_length"
   ]
  },
  {
   "cell_type": "code",
   "execution_count": 9,
   "metadata": {},
   "outputs": [],
   "source": [
    "lengths = lengths.sort_values(ascending=False)\n",
    "lengths.to_csv(\"sequence_lengths.csv\", header=True)"
   ]
  },
  {
   "cell_type": "code",
   "execution_count": 30,
   "metadata": {},
   "outputs": [
    {
     "name": "stdout",
     "output_type": "stream",
     "text": [
      "count    168182.000000\n",
      "mean       1130.465139\n",
      "std        3696.897480\n",
      "min           2.000000\n",
      "25%         226.000000\n",
      "50%         499.000000\n",
      "75%        1107.000000\n",
      "max      621965.000000\n",
      "dtype: float64\n"
     ]
    }
   ],
   "source": [
    "print(lengths.describe());"
   ]
  }
 ],
 "metadata": {
  "kernelspec": {
   "display_name": ".venv",
   "language": "python",
   "name": "python3"
  },
  "language_info": {
   "codemirror_mode": {
    "name": "ipython",
    "version": 3
   },
   "file_extension": ".py",
   "mimetype": "text/x-python",
   "name": "python",
   "nbconvert_exporter": "python",
   "pygments_lexer": "ipython3",
   "version": "3.10.13"
  }
 },
 "nbformat": 4,
 "nbformat_minor": 2
}
