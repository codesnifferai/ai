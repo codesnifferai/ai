{
 "cells": [
  {
   "cell_type": "code",
   "execution_count": 54,
   "metadata": {},
   "outputs": [],
   "source": [
    "import pandas as pd\n",
    "import os, shutil"
   ]
  },
  {
   "cell_type": "code",
   "execution_count": 55,
   "metadata": {},
   "outputs": [],
   "source": [
    "df = pd.read_csv('../data/filtered_data.csv')"
   ]
  },
  {
   "cell_type": "code",
   "execution_count": 56,
   "metadata": {},
   "outputs": [],
   "source": [
    "targets = [\"Address\", \"Model Class\", \"Futile Abstract Pipeline\", \"Schizofrenic Class\", \"Data Class\"]"
   ]
  },
  {
   "cell_type": "code",
   "execution_count": 57,
   "metadata": {},
   "outputs": [],
   "source": [
    "mask = df[targets].any(axis=1)\n",
    "\n",
    "# Filtering the DataFrame using the mask\n",
    "filtered_df = df[targets]\n",
    "filtered_df = filtered_df[mask]"
   ]
  },
  {
   "cell_type": "code",
   "execution_count": 58,
   "metadata": {},
   "outputs": [],
   "source": [
    "model_class_df = filtered_df[filtered_df[\"Model Class\"] == True]\n",
    "model_class_df = model_class_df[[\"Address\", \"Model Class\"]]\n",
    "\n",
    "futile_abstract_pipeline_df = filtered_df[filtered_df[\"Futile Abstract Pipeline\"] == True]\n",
    "futile_abstract_pipeline_df = futile_abstract_pipeline_df[[\"Address\", \"Futile Abstract Pipeline\"]]\n",
    "\n",
    "schizofrenic_class_df = filtered_df[filtered_df[\"Schizofrenic Class\"] == True]\n",
    "schizofrenic_class_df = schizofrenic_class_df[[\"Address\", \"Schizofrenic Class\"]]\n",
    "\n",
    "data_class_df = filtered_df[filtered_df[\"Data Class\"] == True]\n",
    "data_class_df = data_class_df[[\"Address\", \"Data Class\"]]\n",
    "\n",
    "classes = [model_class_df, futile_abstract_pipeline_df, schizofrenic_class_df, data_class_df]"
   ]
  },
  {
   "cell_type": "code",
   "execution_count": 59,
   "metadata": {},
   "outputs": [
    {
     "data": {
      "text/html": [
       "<div>\n",
       "<style scoped>\n",
       "    .dataframe tbody tr th:only-of-type {\n",
       "        vertical-align: middle;\n",
       "    }\n",
       "\n",
       "    .dataframe tbody tr th {\n",
       "        vertical-align: top;\n",
       "    }\n",
       "\n",
       "    .dataframe thead th {\n",
       "        text-align: right;\n",
       "    }\n",
       "</style>\n",
       "<table border=\"1\" class=\"dataframe\">\n",
       "  <thead>\n",
       "    <tr style=\"text-align: right;\">\n",
       "      <th></th>\n",
       "      <th>Address</th>\n",
       "      <th>Model Class</th>\n",
       "    </tr>\n",
       "  </thead>\n",
       "  <tbody>\n",
       "    <tr>\n",
       "      <th>0</th>\n",
       "      <td>org.apache.hadoop.metrics2.sink.SqlServerSinkT...</td>\n",
       "      <td>True</td>\n",
       "    </tr>\n",
       "    <tr>\n",
       "      <th>1</th>\n",
       "      <td>org.apache.ambari.TestMapReduceJobHistoryUpdat...</td>\n",
       "      <td>True</td>\n",
       "    </tr>\n",
       "    <tr>\n",
       "      <th>2</th>\n",
       "      <td>org.apache.ambari.log4j.hadoop.mapreduce.jobhi...</td>\n",
       "      <td>True</td>\n",
       "    </tr>\n",
       "    <tr>\n",
       "      <th>3</th>\n",
       "      <td>org.apache.ambari.log4j.hadoop.mapreduce.jobhi...</td>\n",
       "      <td>True</td>\n",
       "    </tr>\n",
       "    <tr>\n",
       "      <th>4</th>\n",
       "      <td>org.apache.ambari.log4j.common.store.TestDatab...</td>\n",
       "      <td>True</td>\n",
       "    </tr>\n",
       "  </tbody>\n",
       "</table>\n",
       "</div>"
      ],
      "text/plain": [
       "                                             Address  Model Class\n",
       "0  org.apache.hadoop.metrics2.sink.SqlServerSinkT...         True\n",
       "1  org.apache.ambari.TestMapReduceJobHistoryUpdat...         True\n",
       "2  org.apache.ambari.log4j.hadoop.mapreduce.jobhi...         True\n",
       "3  org.apache.ambari.log4j.hadoop.mapreduce.jobhi...         True\n",
       "4  org.apache.ambari.log4j.common.store.TestDatab...         True"
      ]
     },
     "execution_count": 59,
     "metadata": {},
     "output_type": "execute_result"
    }
   ],
   "source": [
    "model_class_df.head()"
   ]
  },
  {
   "cell_type": "code",
   "execution_count": 60,
   "metadata": {},
   "outputs": [],
   "source": [
    "small_files = {}\n",
    "\n",
    "for cls in classes:\n",
    "    min_chars = float('inf')\n",
    "    smallest_file = None\n",
    "    for address in cls['Address']:\n",
    "        try:\n",
    "            with open(f\"../data/code_files/{address}\", 'r', encoding='utf-8') as file:\n",
    "                content = file.read()\n",
    "                char_count = len(content)\n",
    "\n",
    "                if char_count < min_chars and char_count > 1000:\n",
    "                    min_chars = char_count\n",
    "                    smallest_file = address\n",
    "\n",
    "        except FileNotFoundError:\n",
    "            print(f\"File not found: {address}\")\n",
    "        except Exception as e:\n",
    "            print(f\"Error reading file {address}: {e}\")\n",
    "    small_files[cls.columns[1]] = smallest_file"
   ]
  },
  {
   "cell_type": "code",
   "execution_count": 61,
   "metadata": {},
   "outputs": [
    {
     "data": {
      "text/plain": [
       "{'Model Class': 'org.apache.fineract.portfolio.loanaccount.handler.BulkUpdateLoanOfficerCommandHandler.java',\n",
       " 'Futile Abstract Pipeline': 'com.esri.core.geometry.OperatorGeodeticLength.java',\n",
       " 'Schizofrenic Class': 'org.apache.ambari.server.controller.ViewUrlResponseSwagger.java',\n",
       " 'Data Class': 'org.apache.openjpa.persistence.inheritance.entity.SubclassH.java'}"
      ]
     },
     "execution_count": 61,
     "metadata": {},
     "output_type": "execute_result"
    }
   ],
   "source": [
    "small_files"
   ]
  },
  {
   "cell_type": "code",
   "execution_count": 62,
   "metadata": {},
   "outputs": [
    {
     "name": "stdout",
     "output_type": "stream",
     "text": [
      "Copied ../data/code_files/org.apache.fineract.portfolio.loanaccount.handler.BulkUpdateLoanOfficerCommandHandler.java to small_files/Model Class/org.apache.fineract.portfolio.loanaccount.handler.BulkUpdateLoanOfficerCommandHandler.java\n",
      "Copied ../data/code_files/com.esri.core.geometry.OperatorGeodeticLength.java to small_files/Futile Abstract Pipeline/com.esri.core.geometry.OperatorGeodeticLength.java\n",
      "Copied ../data/code_files/org.apache.ambari.server.controller.ViewUrlResponseSwagger.java to small_files/Schizofrenic Class/org.apache.ambari.server.controller.ViewUrlResponseSwagger.java\n",
      "Copied ../data/code_files/org.apache.openjpa.persistence.inheritance.entity.SubclassH.java to small_files/Data Class/org.apache.openjpa.persistence.inheritance.entity.SubclassH.java\n"
     ]
    }
   ],
   "source": [
    "os.makedirs('small_files', exist_ok=True)\n",
    "\n",
    "for cls_name, file_address in small_files.items():\n",
    "    destination_dir = f'small_files/{cls_name}'\n",
    "    os.makedirs(destination_dir, exist_ok=True)\n",
    "    try:\n",
    "        # Construct the full destination path\n",
    "        file_path = f\"../data/code_files/{file_address}\"\n",
    "        dest_path = os.path.join(destination_dir, file_address)\n",
    "        # Copy the file\n",
    "        shutil.copy(file_path, dest_path)\n",
    "        print(f\"Copied {file_path} to {dest_path}\")\n",
    "    except FileNotFoundError:\n",
    "        print(f\"File not found: {file_path}\")\n",
    "    except Exception as e:\n",
    "        print(f\"Error copying file {file_path}: {e}\")"
   ]
  },
  {
   "cell_type": "code",
   "execution_count": null,
   "metadata": {},
   "outputs": [],
   "source": []
  }
 ],
 "metadata": {
  "kernelspec": {
   "display_name": ".venv",
   "language": "python",
   "name": "python3"
  },
  "language_info": {
   "codemirror_mode": {
    "name": "ipython",
    "version": 3
   },
   "file_extension": ".py",
   "mimetype": "text/x-python",
   "name": "python",
   "nbconvert_exporter": "python",
   "pygments_lexer": "ipython3",
   "version": "3.10.13"
  }
 },
 "nbformat": 4,
 "nbformat_minor": 2
}
