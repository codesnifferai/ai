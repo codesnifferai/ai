{
 "cells": [
  {
   "cell_type": "code",
   "execution_count": 18,
   "metadata": {},
   "outputs": [],
   "source": [
    "import pandas as pd\n",
    "import numpy as np"
   ]
  },
  {
   "cell_type": "code",
   "execution_count": 3,
   "metadata": {},
   "outputs": [
    {
     "data": {
      "text/html": [
       "<div>\n",
       "<style scoped>\n",
       "    .dataframe tbody tr th:only-of-type {\n",
       "        vertical-align: middle;\n",
       "    }\n",
       "\n",
       "    .dataframe tbody tr th {\n",
       "        vertical-align: top;\n",
       "    }\n",
       "\n",
       "    .dataframe thead th {\n",
       "        text-align: right;\n",
       "    }\n",
       "</style>\n",
       "<table border=\"1\" class=\"dataframe\">\n",
       "  <thead>\n",
       "    <tr style=\"text-align: right;\">\n",
       "      <th></th>\n",
       "      <th>True</th>\n",
       "      <th>Predicted</th>\n",
       "    </tr>\n",
       "  </thead>\n",
       "  <tbody>\n",
       "    <tr>\n",
       "      <th>0</th>\n",
       "      <td>[0.0, 1.0, 0.0, 0.0, 0.0, 0.0, 1.0, 0.0]</td>\n",
       "      <td>[0.0, 0.0, 0.0, 0.0, 0.0, 0.0, 1.0, 0.0]</td>\n",
       "    </tr>\n",
       "    <tr>\n",
       "      <th>1</th>\n",
       "      <td>[0.0, 0.0, 0.0, 0.0, 0.0, 0.0, 1.0, 0.0]</td>\n",
       "      <td>[0.0, 0.0, 0.0, 0.0, 0.0, 0.0, 1.0, 0.0]</td>\n",
       "    </tr>\n",
       "    <tr>\n",
       "      <th>2</th>\n",
       "      <td>[0.0, 0.0, 0.0, 0.0, 0.0, 0.0, 1.0, 0.0]</td>\n",
       "      <td>[0.0, 0.0, 0.0, 0.0, 0.0, 0.0, 1.0, 0.0]</td>\n",
       "    </tr>\n",
       "    <tr>\n",
       "      <th>3</th>\n",
       "      <td>[0.0, 0.0, 0.0, 0.0, 0.0, 0.0, 1.0, 0.0]</td>\n",
       "      <td>[0.0, 0.0, 0.0, 0.0, 0.0, 0.0, 1.0, 0.0]</td>\n",
       "    </tr>\n",
       "    <tr>\n",
       "      <th>4</th>\n",
       "      <td>[0.0, 0.0, 0.0, 0.0, 0.0, 0.0, 1.0, 0.0]</td>\n",
       "      <td>[0.0, 0.0, 0.0, 0.0, 0.0, 0.0, 1.0, 0.0]</td>\n",
       "    </tr>\n",
       "  </tbody>\n",
       "</table>\n",
       "</div>"
      ],
      "text/plain": [
       "                                       True  \\\n",
       "0  [0.0, 1.0, 0.0, 0.0, 0.0, 0.0, 1.0, 0.0]   \n",
       "1  [0.0, 0.0, 0.0, 0.0, 0.0, 0.0, 1.0, 0.0]   \n",
       "2  [0.0, 0.0, 0.0, 0.0, 0.0, 0.0, 1.0, 0.0]   \n",
       "3  [0.0, 0.0, 0.0, 0.0, 0.0, 0.0, 1.0, 0.0]   \n",
       "4  [0.0, 0.0, 0.0, 0.0, 0.0, 0.0, 1.0, 0.0]   \n",
       "\n",
       "                                  Predicted  \n",
       "0  [0.0, 0.0, 0.0, 0.0, 0.0, 0.0, 1.0, 0.0]  \n",
       "1  [0.0, 0.0, 0.0, 0.0, 0.0, 0.0, 1.0, 0.0]  \n",
       "2  [0.0, 0.0, 0.0, 0.0, 0.0, 0.0, 1.0, 0.0]  \n",
       "3  [0.0, 0.0, 0.0, 0.0, 0.0, 0.0, 1.0, 0.0]  \n",
       "4  [0.0, 0.0, 0.0, 0.0, 0.0, 0.0, 1.0, 0.0]  "
      ]
     },
     "execution_count": 3,
     "metadata": {},
     "output_type": "execute_result"
    }
   ],
   "source": [
    "confusion = pd.read_csv(\"../model/statistics/confusion.csv\")\n",
    "confusion.head()"
   ]
  },
  {
   "cell_type": "code",
   "execution_count": 4,
   "metadata": {},
   "outputs": [],
   "source": [
    "True_matrix=np.zeros((confusion.shape[0], 8))\n",
    "Pred_matrix=np.zeros((confusion.shape[0], 8))"
   ]
  },
  {
   "cell_type": "code",
   "execution_count": 5,
   "metadata": {},
   "outputs": [
    {
     "data": {
      "text/plain": [
       "[0.0, 1.0, 0.0, 0.0, 0.0, 0.0, 1.0, 0.0]"
      ]
     },
     "execution_count": 5,
     "metadata": {},
     "output_type": "execute_result"
    }
   ],
   "source": [
    "eval(confusion['True'][0])"
   ]
  },
  {
   "cell_type": "code",
   "execution_count": 6,
   "metadata": {},
   "outputs": [],
   "source": [
    "for i in range (confusion.shape[0]):\n",
    "    True_matrix[i, :] = eval(confusion['True'][i])\n",
    "    Pred_matrix[i, :] = eval(confusion['Predicted'][i])"
   ]
  },
  {
   "cell_type": "code",
   "execution_count": 7,
   "metadata": {},
   "outputs": [
    {
     "name": "stdout",
     "output_type": "stream",
     "text": [
      "total=34028 tp=12 fp=17 tn=33912 fn=91\n",
      "1586\n",
      "total=34028 tp=1195 fp=193 tn=31790 fn=854\n",
      "11\n",
      "total=34028 tp=16 fp=1 tn=33983 fn=32\n",
      "2450\n",
      "total=34028 tp=1 fp=2 tn=33983 fn=46\n",
      "25324\n",
      "total=34028 tp=64 fp=55 tn=33527 fn=386\n",
      "93\n",
      "total=34028 tp=1 fp=1 tn=34029 fn=1\n",
      "0\n",
      "total=34028 tp=32878 fp=291 tn=712 fn=151\n",
      "0\n",
      "total=34028 tp=886 fp=358 tn=31446 fn=1342\n",
      "12\n"
     ]
    }
   ],
   "source": [
    "f1=[0]*8\n",
    "prec=[0] * 8\n",
    "recl=[0] * 8\n",
    "prec_neg=[0] * 8\n",
    "recl_neg=[0] * 8\n",
    "acc=[0] * 8\n",
    "examples = []\n",
    "for cls in range(8):\n",
    "    true = True_matrix[:, cls]\n",
    "    pred = Pred_matrix[:, cls]\n",
    "    \n",
    "    acc[cls] = (true == pred).sum()\n",
    "    \n",
    "    tp = ((true == 1) & (pred == 1)).sum() + 1\n",
    "    fp = ((true == 0) & (pred == 1)).sum() + 1\n",
    "    tn = ((true == 0) & (pred == 0)).sum() + 1\n",
    "    fn = ((true == 1) & (pred == 0)).sum() + 1\n",
    "\n",
    "    print(f\"total={true.shape[0]} tp={tp} fp={fp} tn={tn} fn={fn}\")\n",
    "    prec[cls] = tp/(tp + fp)\n",
    "    prec_neg[cls] = tn/(tn + fn)\n",
    "\n",
    "    recl[cls] = tp/(tp + fn)\n",
    "    recl_neg[cls] = tn/(tn + fp)\n",
    "\n",
    "    f1[cls] = 2*(prec[cls]*recl[cls])/(prec[cls] + recl[cls])\n",
    "    examples.append(np.argmax(pred))\n",
    "    print(np.argmax(pred))"
   ]
  },
  {
   "cell_type": "code",
   "execution_count": 8,
   "metadata": {},
   "outputs": [
    {
     "data": {
      "text/plain": [
       "[0.41379310344827586,\n",
       " 0.8609510086455331,\n",
       " 0.9411764705882353,\n",
       " 0.3333333333333333,\n",
       " 0.5378151260504201,\n",
       " 0.5,\n",
       " 0.9912267478669843,\n",
       " 0.7122186495176849]"
      ]
     },
     "execution_count": 8,
     "metadata": {},
     "output_type": "execute_result"
    }
   ],
   "source": [
    "prec"
   ]
  },
  {
   "cell_type": "code",
   "execution_count": 9,
   "metadata": {},
   "outputs": [
    {
     "data": {
      "text/plain": [
       "[0.11650485436893204,\n",
       " 0.5832113225963885,\n",
       " 0.3333333333333333,\n",
       " 0.02127659574468085,\n",
       " 0.14222222222222222,\n",
       " 0.5,\n",
       " 0.9954282600139271,\n",
       " 0.3976660682226212]"
      ]
     },
     "execution_count": 9,
     "metadata": {},
     "output_type": "execute_result"
    }
   ],
   "source": [
    "recl"
   ]
  },
  {
   "cell_type": "code",
   "execution_count": 10,
   "metadata": {},
   "outputs": [
    {
     "data": {
      "text/plain": [
       "[0.9973237655500985,\n",
       " 0.9738389903198138,\n",
       " 0.9990592385712186,\n",
       " 0.9986482118193306,\n",
       " 0.9886179341255565,\n",
       " 0.9999706141639729,\n",
       " 0.8250289687137891,\n",
       " 0.9590703916066854]"
      ]
     },
     "execution_count": 10,
     "metadata": {},
     "output_type": "execute_result"
    }
   ],
   "source": [
    "prec_neg"
   ]
  },
  {
   "cell_type": "code",
   "execution_count": 11,
   "metadata": {},
   "outputs": [
    {
     "data": {
      "text/plain": [
       "[0.999498953697427,\n",
       " 0.9939655441953538,\n",
       " 0.9999705743879472,\n",
       " 0.9999411505075769,\n",
       " 0.9983622178548032,\n",
       " 0.9999706141639729,\n",
       " 0.7098703888334995,\n",
       " 0.9887435542699031]"
      ]
     },
     "execution_count": 11,
     "metadata": {},
     "output_type": "execute_result"
    }
   ],
   "source": [
    "recl_neg"
   ]
  },
  {
   "cell_type": "code",
   "execution_count": 12,
   "metadata": {},
   "outputs": [
    {
     "data": {
      "text/plain": [
       "[0.18181818181818182,\n",
       " 0.695373872563282,\n",
       " 0.49230769230769234,\n",
       " 0.04,\n",
       " 0.22495606326889278,\n",
       " 0.5,\n",
       " 0.9933230611196714,\n",
       " 0.5103686635944701]"
      ]
     },
     "execution_count": 12,
     "metadata": {},
     "output_type": "execute_result"
    }
   ],
   "source": [
    "f1"
   ]
  },
  {
   "cell_type": "code",
   "execution_count": 13,
   "metadata": {},
   "outputs": [],
   "source": [
    "names = pd.read_csv(\"../data/dataset_test.csv\").drop([\"Address\"], axis=1).columns"
   ]
  },
  {
   "cell_type": "code",
   "execution_count": 14,
   "metadata": {},
   "outputs": [
    {
     "data": {
      "text/plain": [
       "Index(['Brain Class', 'Data Class', 'Futile Abstract Pipeline',\n",
       "       'Futile Hierarchy', 'God Class', 'Hierarchy Duplication', 'Model Class',\n",
       "       'Schizofrenic Class'],\n",
       "      dtype='object')"
      ]
     },
     "execution_count": 14,
     "metadata": {},
     "output_type": "execute_result"
    }
   ],
   "source": [
    "names"
   ]
  },
  {
   "cell_type": "code",
   "execution_count": 15,
   "metadata": {},
   "outputs": [],
   "source": [
    "examples = pd.read_csv('../data/filtered_data.csv').head()"
   ]
  },
  {
   "cell_type": "markdown",
   "metadata": {},
   "source": []
  },
  {
   "cell_type": "code",
   "execution_count": 16,
   "metadata": {},
   "outputs": [],
   "source": [
    "examples = examples[[\"Address\", \"Data Class\", \"Futile Abstract Pipeline\", \"Model Class\", \"Schizofrenic Class\"]]"
   ]
  },
  {
   "cell_type": "code",
   "execution_count": 17,
   "metadata": {},
   "outputs": [
    {
     "data": {
      "text/html": [
       "<div>\n",
       "<style scoped>\n",
       "    .dataframe tbody tr th:only-of-type {\n",
       "        vertical-align: middle;\n",
       "    }\n",
       "\n",
       "    .dataframe tbody tr th {\n",
       "        vertical-align: top;\n",
       "    }\n",
       "\n",
       "    .dataframe thead th {\n",
       "        text-align: right;\n",
       "    }\n",
       "</style>\n",
       "<table border=\"1\" class=\"dataframe\">\n",
       "  <thead>\n",
       "    <tr style=\"text-align: right;\">\n",
       "      <th></th>\n",
       "      <th>Address</th>\n",
       "      <th>Data Class</th>\n",
       "      <th>Futile Abstract Pipeline</th>\n",
       "      <th>Model Class</th>\n",
       "      <th>Schizofrenic Class</th>\n",
       "    </tr>\n",
       "  </thead>\n",
       "  <tbody>\n",
       "    <tr>\n",
       "      <th>0</th>\n",
       "      <td>org.apache.hadoop.metrics2.sink.SqlServerSinkT...</td>\n",
       "      <td>False</td>\n",
       "      <td>False</td>\n",
       "      <td>True</td>\n",
       "      <td>False</td>\n",
       "    </tr>\n",
       "    <tr>\n",
       "      <th>1</th>\n",
       "      <td>org.apache.ambari.TestMapReduceJobHistoryUpdat...</td>\n",
       "      <td>False</td>\n",
       "      <td>False</td>\n",
       "      <td>True</td>\n",
       "      <td>False</td>\n",
       "    </tr>\n",
       "    <tr>\n",
       "      <th>2</th>\n",
       "      <td>org.apache.ambari.log4j.hadoop.mapreduce.jobhi...</td>\n",
       "      <td>False</td>\n",
       "      <td>False</td>\n",
       "      <td>True</td>\n",
       "      <td>False</td>\n",
       "    </tr>\n",
       "    <tr>\n",
       "      <th>3</th>\n",
       "      <td>org.apache.ambari.log4j.hadoop.mapreduce.jobhi...</td>\n",
       "      <td>False</td>\n",
       "      <td>False</td>\n",
       "      <td>True</td>\n",
       "      <td>True</td>\n",
       "    </tr>\n",
       "    <tr>\n",
       "      <th>4</th>\n",
       "      <td>org.apache.ambari.log4j.common.store.TestDatab...</td>\n",
       "      <td>False</td>\n",
       "      <td>False</td>\n",
       "      <td>True</td>\n",
       "      <td>False</td>\n",
       "    </tr>\n",
       "  </tbody>\n",
       "</table>\n",
       "</div>"
      ],
      "text/plain": [
       "                                             Address  Data Class  \\\n",
       "0  org.apache.hadoop.metrics2.sink.SqlServerSinkT...       False   \n",
       "1  org.apache.ambari.TestMapReduceJobHistoryUpdat...       False   \n",
       "2  org.apache.ambari.log4j.hadoop.mapreduce.jobhi...       False   \n",
       "3  org.apache.ambari.log4j.hadoop.mapreduce.jobhi...       False   \n",
       "4  org.apache.ambari.log4j.common.store.TestDatab...       False   \n",
       "\n",
       "   Futile Abstract Pipeline  Model Class  Schizofrenic Class  \n",
       "0                     False         True               False  \n",
       "1                     False         True               False  \n",
       "2                     False         True               False  \n",
       "3                     False         True                True  \n",
       "4                     False         True               False  "
      ]
     },
     "execution_count": 17,
     "metadata": {},
     "output_type": "execute_result"
    }
   ],
   "source": [
    "examples.head()"
   ]
  },
  {
   "cell_type": "code",
   "execution_count": null,
   "metadata": {},
   "outputs": [],
   "source": []
  }
 ],
 "metadata": {
  "kernelspec": {
   "display_name": ".venv",
   "language": "python",
   "name": "python3"
  },
  "language_info": {
   "codemirror_mode": {
    "name": "ipython",
    "version": 3
   },
   "file_extension": ".py",
   "mimetype": "text/x-python",
   "name": "python",
   "nbconvert_exporter": "python",
   "pygments_lexer": "ipython3",
   "version": "3.10.13"
  }
 },
 "nbformat": 4,
 "nbformat_minor": 2
}
